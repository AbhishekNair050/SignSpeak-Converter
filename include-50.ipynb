{
 "cells": [
  {
   "cell_type": "code",
   "execution_count": null,
   "metadata": {},
   "outputs": [],
   "source": [
    "import csv, os\n",
    "from tqdm import tqdm\n",
    "import numpy as np"
   ]
  },
  {
   "cell_type": "code",
   "execution_count": null,
   "metadata": {},
   "outputs": [],
   "source": [
    "directory_path = \"/content/include-50\"\n",
    "\n",
    "data = []\n",
    "\n",
    "for folder_name in os.listdir(directory_path):\n",
    "    folder_path = os.path.join(directory_path, folder_name)\n",
    "    if os.path.isdir(folder_path):\n",
    "        for subfolder_name in os.listdir(folder_path):\n",
    "            subfolder_path = os.path.join(folder_path, subfolder_name)\n",
    "            if os.path.isdir(subfolder_path):\n",
    "                for filename in os.listdir(subfolder_path):\n",
    "                    if filename.endswith(\".MOV\"):\n",
    "                        video_path = os.path.join(subfolder_path, filename)\n",
    "                        gloss = subfolder_name.split(\". \")[1]\n",
    "                        data.append({\"gloss\": gloss, \"video_path\": video_path})\n",
    "\n",
    "with open(\"output.csv\", \"w\", newline=\"\") as csvfile:\n",
    "    fieldnames = [\"gloss\", \"video_path\"]\n",
    "    writer = csv.DictWriter(csvfile, fieldnames=fieldnames)\n",
    "\n",
    "    writer.writeheader()\n",
    "    for item in data:\n",
    "        writer.writerow(item)\n",
    "\n",
    "print(\"CSV file saved successfully!\")"
   ]
  },
  {
   "cell_type": "code",
   "execution_count": null,
   "metadata": {},
   "outputs": [],
   "source": [
    "npy_dir = '/content/output'\n",
    "os.makedirs(npy_dir, exist_ok=True)\n",
    "\n",
    "for i in tqdm(range(len(data)), ncols=100):\n",
    "    try:\n",
    "        gloss_name = data[i]['gloss']\n",
    "        npy1_dir = os.path.join(npy_dir, gloss_name)\n",
    "        os.makedirs(npy1_dir, exist_ok=True)\n",
    "\n",
    "        npy_path = os.path.join(npy1_dir, f'{i}.npy')\n",
    "        if os.path.exists(npy_path):\n",
    "            continue\n",
    "\n",
    "        video_path = data[i]['video_path']\n",
    "\n",
    "        try:\n",
    "            video_landmarks = get_video_landmarks(video_path)\n",
    "            np.save(npy_path, video_landmarks)\n",
    "\n",
    "        except Exception as e:\n",
    "            print(f\"\\nError encoding {video_path}\\n{e}\")\n",
    "            continue\n",
    "        clear_output(wait=True)\n",
    "\n",
    "    except KeyboardInterrupt:\n",
    "        print(\"\\nLoading process interrupted by user.\")\n",
    "        break"
   ]
  },
  {
   "cell_type": "code",
   "execution_count": null,
   "metadata": {},
   "outputs": [],
   "source": [
    "landmarks_dict = {}\n",
    "npy_dir = \"/content/output/\"\n",
    "for filename in os.listdir(npy_dir):\n",
    "    if filename.endswith('.npy'):\n",
    "        key = filename.split('.')[0]\n",
    "        landmarks = np.load(os.path.join(npy_dir, filename), allow_pickle=True)\n",
    "        landmarks_dict[key] = landmarks\n",
    "\n",
    "np.savez_compressed('/content/landmarks.npz', **landmarks_dict)"
   ]
  }
 ],
 "metadata": {
  "language_info": {
   "name": "python"
  }
 },
 "nbformat": 4,
 "nbformat_minor": 2
}
